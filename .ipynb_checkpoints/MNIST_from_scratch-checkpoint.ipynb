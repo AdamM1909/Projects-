{
 "cells": [
  {
   "cell_type": "markdown",
   "id": "08101709",
   "metadata": {},
   "source": [
    "# MNIST From Scratch"
   ]
  },
  {
   "cell_type": "markdown",
   "id": "b0744205",
   "metadata": {},
   "source": [
    "This is my version of a simple 2 layer network to clasify MNIST. \n",
    "I used this video: https://youtu.be/JRlyw6LO5qo by George Hotz as a reference any many of the references within for futher reading."
   ]
  },
  {
   "cell_type": "code",
   "execution_count": 1,
   "id": "95ad0481",
   "metadata": {},
   "outputs": [
    {
     "name": "stdout",
     "output_type": "stream",
     "text": [
      "^C\n",
      "Note: you may need to restart the kernel to use updated packages.\n"
     ]
    }
   ],
   "source": [
    "pip install torch"
   ]
  },
  {
   "cell_type": "code",
   "execution_count": 2,
   "id": "237f615d",
   "metadata": {},
   "outputs": [],
   "source": [
    "import pandas as pd\n",
    "import numpy as np\n",
    "import matplotlib.pyplot as plt\n",
    "import torch.nn as nn\n",
    "# import torchvision.datasets as datasets\n",
    "import torch.optim as optim\n",
    "# from torch.utils.data import DataLoader\n",
    "from tqdm import trange"
   ]
  },
  {
   "cell_type": "code",
   "execution_count": 3,
   "id": "f92d2893",
   "metadata": {},
   "outputs": [],
   "source": [
    "import gzip\n",
    "import os\n",
    "from urllib.request import urlretrieve\n",
    "\n",
    "\n",
    "def mnist(path=None):\n",
    "    r\"\"\"Return (train_images, train_labels, test_images, test_labels).\n",
    "\n",
    "    Args:\n",
    "        path (str): Directory containing MNIST. Default is\n",
    "            /home/USER/data/mnist or C:\\Users\\USER\\data\\mnist.\n",
    "            Create if nonexistant. Download any missing files.\n",
    "\n",
    "    Returns:\n",
    "        Tuple of (train_images, train_labels, test_images, test_labels), each\n",
    "            a matrix. Rows are examples. Columns of images are pixel values.\n",
    "            Columns of labels are a onehot encoding of the correct class.\n",
    "    \"\"\"\n",
    "    url = 'http://yann.lecun.com/exdb/mnist/'\n",
    "    files = ['train-images-idx3-ubyte.gz',\n",
    "             'train-labels-idx1-ubyte.gz',\n",
    "             't10k-images-idx3-ubyte.gz',\n",
    "             't10k-labels-idx1-ubyte.gz']\n",
    "\n",
    "    if path is None:\n",
    "        # Set path to /home/USER/data/mnist or C:\\Users\\USER\\data\\mnist\n",
    "        path = os.path.join(os.path.expanduser('~'), 'data', 'mnist')\n",
    "\n",
    "    # Create path if it doesn't exist\n",
    "    os.makedirs(path, exist_ok=True)\n",
    "\n",
    "    # Download any missing files\n",
    "    for file in files:\n",
    "        if file not in os.listdir(path):\n",
    "            urlretrieve(url + file, os.path.join(path, file))\n",
    "            print(\"Downloaded %s to %s\" % (file, path))\n",
    "\n",
    "    def _images(path):\n",
    "        \"\"\"Return images loaded locally.\"\"\"\n",
    "        with gzip.open(path) as f:\n",
    "            # First 16 bytes are magic_number, n_imgs, n_rows, n_cols\n",
    "            pixels = np.frombuffer(f.read(), 'B', offset=16)\n",
    "        return pixels.reshape(-1, 784).astype('float32') / 255\n",
    "\n",
    "    def _labels(path):\n",
    "        \"\"\"Return labels loaded locally.\"\"\"\n",
    "        with gzip.open(path) as f:\n",
    "            # First 8 bytes are magic_number, n_labels\n",
    "            integer_labels = np.frombuffer(f.read(), 'B', offset=8)\n",
    "\n",
    "        def _onehot(integer_labels):\n",
    "            \"\"\"Return matrix whose rows are onehot encodings of integers.\"\"\"\n",
    "            n_rows = len(integer_labels)\n",
    "            n_cols = integer_labels.max() + 1\n",
    "            onehot = np.zeros((n_rows, n_cols), dtype='uint8')\n",
    "            onehot[np.arange(n_rows), integer_labels] = 1\n",
    "            return onehot\n",
    "\n",
    "#         return _onehot(integer_labels)\n",
    "        return integer_labels\n",
    "\n",
    "    train_images = _images(os.path.join(path, files[0]))\n",
    "    train_labels = _labels(os.path.join(path, files[1]))\n",
    "    test_images = _images(os.path.join(path, files[2]))\n",
    "    test_labels = _labels(os.path.join(path, files[3]))\n",
    "\n",
    "    return train_images, train_labels, test_images, test_labels"
   ]
  },
  {
   "cell_type": "code",
   "execution_count": 4,
   "id": "8cb059c6",
   "metadata": {},
   "outputs": [],
   "source": [
    "X_train, Y_train, X_test, Y_test = mnist()"
   ]
  },
  {
   "cell_type": "markdown",
   "id": "0a67a844",
   "metadata": {},
   "source": [
    "# NN Using Torch"
   ]
  },
  {
   "cell_type": "code",
   "execution_count": 5,
   "id": "814e682b",
   "metadata": {},
   "outputs": [],
   "source": [
    "import torch \n",
    "import torch.nn as nn\n",
    "import torch.nn.functional as F"
   ]
  },
  {
   "cell_type": "code",
   "execution_count": 6,
   "id": "85693686",
   "metadata": {},
   "outputs": [],
   "source": [
    "class SimpleNet(nn.Module):\n",
    "    def __init__(self):\n",
    "        super().__init__()\n",
    "        self.l1 = nn.Linear(784,128)\n",
    "        self.act = nn.ReLU()\n",
    "        self.l2 = nn.Linear(128,10)\n",
    "        \n",
    "    def forward(self, x):\n",
    "        x = self.l1(x)\n",
    "        x = self.act(x)\n",
    "        x = self.l2(x)\n",
    "        return x\n"
   ]
  },
  {
   "cell_type": "code",
   "execution_count": 47,
   "id": "6230a38c",
   "metadata": {},
   "outputs": [
    {
     "name": "stderr",
     "output_type": "stream",
     "text": [
      "Loss: 0.174; Accuracy 0.96875: 100%|██████████| 500/500 [00:03<00:00, 161.61it/s]\n"
     ]
    }
   ],
   "source": [
    "# train\n",
    "model = SimpleNet()\n",
    "BS=32\n",
    "loss_function = nn.CrossEntropyLoss()\n",
    "optimizer = torch.optim.Adam(model.parameters())\n",
    "losses, accuracies = [], []\n",
    " \n",
    "for i in (t := trange(500)):\n",
    "    sample = np.random.randint(0, X_train.shape[0], size=BS)\n",
    "    X = torch.tensor(X_train[sample])\n",
    "    Y = torch.tensor(Y_train[sample])\n",
    "    optimizer.zero_grad() # zero them out as they are saved evengr  over the epoch \n",
    "    guess = model(X)\n",
    "    category = torch.argmax(guess, axis=1)\n",
    "    accuracy = (category == Y).float().mean()\n",
    "    accuracies.append(accuracy.item())\n",
    "    loss = loss_function(guess, Y)\n",
    "    losses.append(loss.item())\n",
    "    loss.backward()\n",
    "    optimizer.step()\n",
    "    t.set_description(f'Loss: {loss.item():.3f}; Accuracy {accuracy:.5f}') # cool use of the assignment (:=) opertor "
   ]
  },
  {
   "cell_type": "code",
   "execution_count": 48,
   "id": "b7fde155",
   "metadata": {},
   "outputs": [
    {
     "data": {
      "image/png": "[encoded data removed]",
      "text/plain": [
       "<Figure size 432x288 with 1 Axes>"
      ]
     },
     "metadata": {
      "needs_background": "light"
     },
     "output_type": "display_data"
    }
   ],
   "source": [
    "fig, ax = plt.subplots()\n",
    "ax.plot(accuracies, label='acc')\n",
    "ax.plot(losses, label='loss')\n",
    "plt.ylim(-0.1,1.2);"
   ]
  },
  {
   "cell_type": "code",
   "execution_count": 9,
   "id": "9199506c",
   "metadata": {},
   "outputs": [
    {
     "data": {
      "text/plain": [
       "0.9205"
      ]
     },
     "execution_count": 9,
     "metadata": {},
     "output_type": "execute_result"
    }
   ],
   "source": [
    "# test\n",
    "Y_preds = torch.argmax(model(torch.tensor(X_test)).float(),axis=1).numpy()\n",
    "(Y_preds == Y_test).mean()"
   ]
  },
  {
   "cell_type": "markdown",
   "id": "e51e240a",
   "metadata": {},
   "source": [
    "# Numpy"
   ]
  },
  {
   "cell_type": "code",
   "execution_count": 10,
   "id": "245f4f81",
   "metadata": {},
   "outputs": [],
   "source": [
    "#load layers in numpy and predict \n",
    "l1 = np.zeros((784, 128), dtype=np.float32)\n",
    "l2 = np.zeros((128,10), dtype=np.float32)"
   ]
  },
  {
   "cell_type": "code",
   "execution_count": 11,
   "id": "1122ab94",
   "metadata": {},
   "outputs": [],
   "source": [
    "l1[:] = model.l1.weight.detach().numpy().T\n",
    "l2[:] = model.l2.weight.detach().numpy().T"
   ]
  },
  {
   "cell_type": "code",
   "execution_count": 12,
   "id": "895e1ca2",
   "metadata": {},
   "outputs": [],
   "source": [
    "# numpy forward pass \n",
    "def forward(x):\n",
    "    x = x.dot(l1)\n",
    "    x = np.maximum(x,0)\n",
    "    x = x.dot(l2)\n",
    "    return x"
   ]
  },
  {
   "cell_type": "code",
   "execution_count": 13,
   "id": "0f6c569a",
   "metadata": {},
   "outputs": [
    {
     "data": {
      "text/plain": [
       "0.9195"
      ]
     },
     "execution_count": 13,
     "metadata": {},
     "output_type": "execute_result"
    }
   ],
   "source": [
    "# prediction from numpy\n",
    "Y_test_preds_out = forward(X_test)\n",
    "Y_test_preds = np.argmax(Y_test_preds_out,axis=1)\n",
    "(Y_test_preds == Y_test).mean()"
   ]
  },
  {
   "cell_type": "code",
   "execution_count": 14,
   "id": "bcc99f85",
   "metadata": {},
   "outputs": [
    {
     "data": {
      "text/plain": [
       "(10000, 10)"
      ]
     },
     "execution_count": 14,
     "metadata": {},
     "output_type": "execute_result"
    }
   ],
   "source": [
    "Y_test_preds_out.shape"
   ]
  },
  {
   "cell_type": "code",
   "execution_count": 15,
   "id": "104a687e",
   "metadata": {},
   "outputs": [],
   "source": [
    "# cross entropy loss with no weightings is: log softamx loss on class x = - ln(e^x/sum over all the calsses e^x_i) = -x + ln(sum over all the classes e^x_i)"
   ]
  },
  {
   "cell_type": "code",
   "execution_count": 16,
   "id": "c170d55e",
   "metadata": {},
   "outputs": [],
   "source": [
    "example_loss = -Y_test_preds_out[0,7] + np.log(np.exp(Y_test_preds_out[0]).sum())\n",
    "# example_loss"
   ]
  },
  {
   "cell_type": "code",
   "execution_count": 17,
   "id": "abaaaf7c",
   "metadata": {},
   "outputs": [],
   "source": [
    "# loss for each prediction, in each image (10000,).  sum(ax=1) sums over the 10 'probabilities'\n",
    "losses = -Y_test_preds_out[range(Y_test_preds_out.shape[0]), Y_test] + np.log(np.exp(Y_test_preds_out).sum(axis=1))"
   ]
  },
  {
   "cell_type": "code",
   "execution_count": 18,
   "id": "b1f4bcf0",
   "metadata": {},
   "outputs": [
    {
     "data": {
      "text/plain": [
       "<matplotlib.image.AxesImage at 0x7f8338636280>"
      ]
     },
     "execution_count": 18,
     "metadata": {},
     "output_type": "execute_result"
    },
    {
     "data": {
      "image/png": "[encoded data removed]",
      "text/plain": [
       "<Figure size 432x288 with 1 Axes>"
      ]
     },
     "metadata": {
      "needs_background": "light"
     },
     "output_type": "display_data"
    }
   ],
   "source": [
    "p=5\n",
    "grid = sorted([(loss, i) for i,loss in enumerate(losses)], key=lambda x: x[0], reverse=True)[:p*p] # sort on loss and take the worst p^^2\n",
    "X_bad = X_test[[t[1] for t in grid]]\n",
    "stack = X_bad.reshape(p*p,28,28).reshape(p,p*28,28)\n",
    "final_grid = np.concatenate(stack, axis= 1)\n",
    "plt.imshow(final_grid)"
   ]
  },
  {
   "cell_type": "markdown",
   "id": "b72063b3",
   "metadata": {},
   "source": [
    "# Backprop"
   ]
  },
  {
   "cell_type": "markdown",
   "id": "7daf655d",
   "metadata": {},
   "source": [
    "local gradients of the network \n",
    "\n",
    "l2  \\\n",
    "rate of change of the output of l2 wrt to the output of the relu  \\\n",
    "dx_relu = l2  \\\n",
    "rate of change of the output of l2 wrt to the weights  \\\n",
    "d_l2 = x_relu \n",
    "\n",
    "relu  \\\n",
    "dx_l1 = (x_relu > 0).astype(np.float32) (gradient is one or zero)\n",
    "\n",
    "l1  \\\n",
    "rate of change of the output of l2 wrt to the output of the relu  \\\n",
    "dx = l1  \\\n",
    "rate of change of the output of l2 wrt to the weights  \\\n",
    "d_l1 = x \n",
    "\n",
    "now use the chain rule\n"
   ]
  },
  {
   "cell_type": "code",
   "execution_count": 19,
   "id": "b2d3a361",
   "metadata": {},
   "outputs": [],
   "source": [
    "# numpy forward pass\n",
    "def forward(x):\n",
    "  x = x.dot(l1)\n",
    "  x = np.maximum(x, 0)\n",
    "  x = x.dot(l2)  \n",
    "  return x\n",
    "  \n",
    "def numpy_eval():\n",
    "  Y_test_preds_out = forward(X_test.reshape((-1, 28*28)))\n",
    "  Y_test_preds = np.argmax(Y_test_preds_out, axis=1)\n",
    "  return (Y_test == Y_test_preds).mean()"
   ]
  },
  {
   "cell_type": "code",
   "execution_count": 20,
   "id": "207c2e97",
   "metadata": {},
   "outputs": [],
   "source": [
    "def logsumexp(x):\n",
    "  #return np.log(np.exp(x).sum(axis=1))\n",
    "  # http://gregorygundersen.com/blog/2020/02/09/log-sum-exp/\n",
    "  c = x.max(axis=1)\n",
    "  return c + np.log(np.exp(x-c.reshape((-1, 1))).sum(axis=1))\n",
    "\n",
    "def forwards_backwards(x, y):\n",
    "    # one hot encode the target vector\n",
    "    out = np.zeros((len(y),10), np.float32) \n",
    "    out[range(out.shape[0]), y] = 1 \n",
    "    \n",
    "    #forward pass\n",
    "    x_l1 = x.dot(l1)\n",
    "    x_relu = np.maximum(x_l1,0)\n",
    "    x_l2 = x_relu.dot(l2)\n",
    "    x_lsm = x_l2 - logsumexp(x_l2).reshape((-1,1))\n",
    "    x_loss = (-out * x_lsm).mean(axis=1) \n",
    "    \n",
    "    # backward pass via teh chain rule\n",
    "    #https://math.stackexchange.com/questions/2013050/log-of-softmax-function-derivative\n",
    "    \n",
    "    # dlsm/dxoutl2 lsm= log soft max\n",
    "    d_out = -out / len(y) # doing a batch so keep d_out the same magnitude for any batch size\n",
    "    dx_lsm = d_out - np.exp(x_lsm)*d_out.sum(axis=1).reshape((-1,1)) \n",
    "    # change the traget proabbility guess one way and the other 9 the other way\n",
    "    # essentially just take away amounts from the wrong categories and add to the wright category\n",
    "#     print(dx_lsm)\n",
    "#     print(d_out)\n",
    "#     print(np.exp(x_lsm)*d_out.sum(axis=1, keepdims=True))\n",
    "\n",
    "    #top layer\n",
    "    d_l2 = x_relu.T.dot(dx_lsm)\n",
    "    d_xrelu = dx_lsm.dot(l2.T)\n",
    "\n",
    "    #work back\n",
    "    d_xl1 = (x_relu > 0).astype(np.float32)*d_xrelu\n",
    "\n",
    "    #and again...\n",
    "#     d_x = d_xl1.dot(l1.T) dont need a derivative wrt to the input onl the weights \n",
    "    d_l1 = x.T.dot(d_xl1)\n",
    "    \n",
    "    return d_l1, d_l2, x_l2, x_loss # return the learnable parameters in the model and the loss \n",
    "# testing\n",
    "# sample = [56,78,98]\n",
    "# forwards_backwards(X_test[sample], Y_test[sample])"
   ]
  },
  {
   "cell_type": "code",
   "execution_count": 112,
   "id": "986435c3",
   "metadata": {},
   "outputs": [],
   "source": [
    "# how to initialize the layers to stop gradients exploding or vanising \n",
    "# https://towardsdatascience.com/weight-initialization-in-neural-networks-a-journey-from-the-basics-to-kaiming-954fb9b47c79\n",
    "#have difficulties converging when the weights are initilised with a normal distribution as differnt layers \n",
    "#can have different variances\n",
    "\n",
    "# kaiming seems to be the go to and works well with a non symertric non linearity ie ReLU\n",
    "\n",
    "def kaiming(m,h):\n",
    "\n",
    "    ret = np.random.normal(loc=0.0, scale=np.sqrt(2/m), size=(m,h))\n",
    "\n",
    "    return ret.astype(np.float32)"
   ]
  },
  {
   "cell_type": "code",
   "execution_count": 113,
   "id": "e2c73388",
   "metadata": {},
   "outputs": [
    {
     "name": "stderr",
     "output_type": "stream",
     "text": [
      "Loss: 0.041; Accuracy 0.89844: 100%|██████████| 1000/1000 [00:16<00:00, 60.90it/s]\n"
     ]
    }
   ],
   "source": [
    "# full thing in numpy:\n",
    "\n",
    "#instantiate a np network \n",
    "\n",
    "l1 = kaiming(784,128)\n",
    "l2 = kaiming(128,10)\n",
    "lr = 0.01\n",
    "BS_np = 128\n",
    "losses, accuracies = [], []\n",
    " \n",
    "for i in (t := trange(1000)): # cool walrus operator as in C \n",
    "    # grab a minibatch \n",
    "    samples = np.random.randint(0, X_train.shape[0], size=BS_np)\n",
    "    X = X_train[samples]\n",
    "    Y = Y_train[samples]\n",
    "    d_l1 , d_l2, x_l2, x_loss = forwards_backwards(X, Y)\n",
    "    \n",
    "    l1 = l1 - lr*d_l1\n",
    "    l2 = l2 - lr*d_l2\n",
    "    \n",
    "    loss = x_loss.mean()\n",
    "#     print(loss)\n",
    "    predicted_category = np.argmax(x_l2, axis=1)\n",
    "    acc = (predicted_category == Y).mean()\n",
    "    losses.append(loss)\n",
    "    accuracies.append(acc)\n",
    "\n",
    "    t.set_description(f'Loss: {loss.item():.3f}; Accuracy {acc:.5f}') # cool use of the assignment (:=) opertor "
   ]
  },
  {
   "cell_type": "code",
   "execution_count": 114,
   "id": "9ae34960",
   "metadata": {},
   "outputs": [
    {
     "data": {
      "text/plain": [
       "<matplotlib.legend.Legend at 0x7f8335d24be0>"
      ]
     },
     "execution_count": 114,
     "metadata": {},
     "output_type": "execute_result"
    },
    {
     "data": {
      "image/png": "[encoded data removed]",
      "text/plain": [
       "<Figure size 432x288 with 1 Axes>"
      ]
     },
     "metadata": {
      "needs_background": "light"
     },
     "output_type": "display_data"
    }
   ],
   "source": [
    "fig, ax = plt.subplots()\n",
    "ax.plot(accuracies, label='acc')\n",
    "ax.plot(losses, label='loss')\n",
    "ax.legend()\n",
    "# plt.ylim(-0.1,1.2);"
   ]
  },
  {
   "cell_type": "code",
   "execution_count": 115,
   "id": "6648e5a0",
   "metadata": {},
   "outputs": [
    {
     "data": {
      "text/plain": [
       "0.8836"
      ]
     },
     "execution_count": 115,
     "metadata": {},
     "output_type": "execute_result"
    }
   ],
   "source": [
    "numpy_eval()"
   ]
  }
 ],
 "metadata": {
  "kernelspec": {
   "display_name": "Python 3 (ipykernel)",
   "language": "python",
   "name": "python3"
  },
  "language_info": {
   "codemirror_mode": {
    "name": "ipython",
    "version": 3
   },
   "file_extension": ".py",
   "mimetype": "text/x-python",
   "name": "python",
   "nbconvert_exporter": "python",
   "pygments_lexer": "ipython3",
   "version": "3.10.6"
  }
 },
 "nbformat": 4,
 "nbformat_minor": 5
}
